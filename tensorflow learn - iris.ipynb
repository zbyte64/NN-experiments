{
 "cells": [
  {
   "cell_type": "code",
   "execution_count": 1,
   "metadata": {
    "collapsed": false
   },
   "outputs": [
    {
     "name": "stderr",
     "output_type": "stream",
     "text": [
      "/home/jason/.local/lib/python3.5/site-packages/sklearn/cross_validation.py:44: DeprecationWarning: This module was deprecated in version 0.18 in favor of the model_selection module into which all the refactored classes and functions are moved. Also note that the interface of the new CV iterators are different from that of this module. This module will be removed in 0.20.\n",
      "  \"This module will be removed in 0.20.\", DeprecationWarning)\n"
     ]
    },
    {
     "name": "stdout",
     "output_type": "stream",
     "text": [
      "WARNING:tensorflow:Using temporary folder as model directory: /tmp/tmp7ad7x0q2\n",
      "INFO:tensorflow:Using default config.\n",
      "INFO:tensorflow:Using config: {'_cluster_spec': <tensorflow.python.training.server_lib.ClusterSpec object at 0x7fdc242a1e48>, 'save_checkpoints_steps': None, '_environment': 'local', 'keep_checkpoint_max': 5, 'save_summary_steps': 100, 'keep_checkpoint_every_n_hours': 10000, '_is_chief': True, '_task_id': 0, '_num_ps_replicas': 0, '_evaluation_master': '', '_task_type': None, 'save_checkpoints_secs': 600, '_master': '', 'tf_random_seed': None, 'tf_config': gpu_options {\n",
      "  per_process_gpu_memory_fraction: 1\n",
      "}\n",
      "}\n",
      "WARNING:tensorflow:float64 is not supported by many models, consider casting to float32.\n",
      "logits/labels: (?, 4) (?,)\n",
      "INFO:tensorflow:Create CheckpointSaverHook.\n",
      "INFO:tensorflow:loss = 1.35926142788, step = 1\n",
      "INFO:tensorflow:Saving checkpoints for 1 into /tmp/tmp7ad7x0q2/model.ckpt.\n",
      "WARNING:tensorflow:*******************************************************\n",
      "WARNING:tensorflow:TensorFlow's V1 checkpoint format has been deprecated.\n",
      "WARNING:tensorflow:Consider switching to the more efficient V2 format:\n",
      "WARNING:tensorflow:   `tf.train.Saver(write_version=tf.train.SaverDef.V2)`\n",
      "WARNING:tensorflow:now on by default.\n",
      "WARNING:tensorflow:*******************************************************\n",
      "INFO:tensorflow:loss = 0.170548893944, step = 101\n",
      "INFO:tensorflow:global_step/sec: 282.408\n",
      "INFO:tensorflow:loss = 0.0828249298931, step = 201\n",
      "INFO:tensorflow:global_step/sec: 852.568\n",
      "INFO:tensorflow:loss = 0.0691876533619, step = 301\n",
      "INFO:tensorflow:global_step/sec: 866.894\n",
      "INFO:tensorflow:loss = 0.0644626764798, step = 401\n",
      "INFO:tensorflow:global_step/sec: 830.338\n",
      "INFO:tensorflow:loss = 0.0616503527504, step = 501\n",
      "INFO:tensorflow:global_step/sec: 885.489\n",
      "INFO:tensorflow:loss = 0.059786580384, step = 601\n",
      "INFO:tensorflow:global_step/sec: 887.759\n",
      "INFO:tensorflow:Saving checkpoints for 700 into /tmp/tmp7ad7x0q2/model.ckpt.\n",
      "WARNING:tensorflow:*******************************************************\n",
      "WARNING:tensorflow:TensorFlow's V1 checkpoint format has been deprecated.\n",
      "WARNING:tensorflow:Consider switching to the more efficient V2 format:\n",
      "WARNING:tensorflow:   `tf.train.Saver(write_version=tf.train.SaverDef.V2)`\n",
      "WARNING:tensorflow:now on by default.\n",
      "WARNING:tensorflow:*******************************************************\n",
      "INFO:tensorflow:Loss for final step: 0.058568453957.\n",
      "WARNING:tensorflow:float64 is not supported by many models, consider casting to float32.\n",
      "logits/labels: (?, 4) (?,)\n",
      "INFO:tensorflow:Loading model from checkpoint: /tmp/tmp7ad7x0q2/model.ckpt-700-?????-of-00001.\n",
      "Accuracy: 1.0\n"
     ]
    }
   ],
   "source": [
    "from sklearn import datasets, metrics, cross_validation\n",
    "import tensorflow as tf\n",
    "from tensorflow.contrib import layers\n",
    "from tensorflow.contrib import learn\n",
    "\n",
    "def my_model(features, target):\n",
    "    target_classes = 4\n",
    "    #target = tf.one_hot(target, target_classes, 1., 0.)\n",
    "    #features = tf.one_hot(features, feature_classes, 1, 0)\n",
    "    features = layers.stack(features, layers.fully_connected, [10, 20, 10])\n",
    "    \n",
    "    #Use `tf.contrib.losses.softmax_cross_entropy` and explicit logits computation.\n",
    "    # Compute logits (1 per class) and compute loss.\n",
    "    logits = layers.fully_connected(features, target_classes)\n",
    "    #loss = tf.contrib.losses.softmax_cross_entropy(logits, target)\n",
    "    \n",
    "    #loss = tf.nn.softmax_cross_entropy_with_logits(logits, target)\n",
    "    print('logits/labels:', logits.get_shape(), target.get_shape())\n",
    "    loss = tf.reduce_mean(tf.nn.sparse_softmax_cross_entropy_with_logits(logits, target))\n",
    "    \n",
    "    #prediction, loss = (\n",
    "    #    tf.contrib.learn.models.logistic_regression_zero_init(features, target)\n",
    "    #)\n",
    "    train_op = tf.contrib.layers.optimize_loss(\n",
    "        loss, tf.contrib.framework.get_global_step(), optimizer='Adagrad',\n",
    "        learning_rate=0.1)\n",
    "    #return {'class': tf.argmax(prediction, 1), 'prob': prediction}\n",
    "    return tf.argmax(logits, 1), loss, train_op\n",
    "\n",
    "iris = datasets.load_iris()\n",
    "x_train, x_test, y_train, y_test = cross_validation.train_test_split(\n",
    "  iris.data, iris.target, test_size=0.2, random_state=35)\n",
    "\n",
    "classifier = learn.SKCompat(learn.Estimator(model_fn=my_model))\n",
    "classifier.fit(x_train, y_train, steps=700)\n",
    "\n",
    "predictions = list(classifier.predict(x_test)) #TODO undo onhot?\n",
    "print(\"Accuracy:\", metrics.accuracy_score(y_test, predictions))"
   ]
  },
  {
   "cell_type": "code",
   "execution_count": null,
   "metadata": {
    "collapsed": true
   },
   "outputs": [],
   "source": []
  }
 ],
 "metadata": {
  "kernelspec": {
   "display_name": "Python 3",
   "language": "python",
   "name": "python3"
  },
  "language_info": {
   "codemirror_mode": {
    "name": "ipython",
    "version": 3
   },
   "file_extension": ".py",
   "mimetype": "text/x-python",
   "name": "python",
   "nbconvert_exporter": "python",
   "pygments_lexer": "ipython3",
   "version": "3.5.2"
  }
 },
 "nbformat": 4,
 "nbformat_minor": 2
}
